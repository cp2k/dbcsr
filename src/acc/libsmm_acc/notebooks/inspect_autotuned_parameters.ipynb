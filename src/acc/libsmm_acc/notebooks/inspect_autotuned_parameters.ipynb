{
 "cells": [
  {
   "cell_type": "markdown",
   "metadata": {
    "collapsed": true
   },
   "source": [
    "# `libcusmm`: explore the space of autotuned parameters"
   ]
  },
  {
   "cell_type": "markdown",
   "metadata": {},
   "source": [
    "This notebook can be used to explore the space of autotuned parameters, stored in files named `parameters_GPU.json`."
   ]
  },
  {
   "cell_type": "markdown",
   "metadata": {},
   "source": [
    "## Library imports"
   ]
  },
  {
   "cell_type": "code",
   "execution_count": null,
   "metadata": {},
   "outputs": [],
   "source": [
    "import numpy as np\n",
    "import pandas as pd\n",
    "import json, os"
   ]
  },
  {
   "cell_type": "markdown",
   "metadata": {},
   "source": [
    "## Read data"
   ]
  },
  {
   "cell_type": "markdown",
   "metadata": {},
   "source": [
    "#### Choose a GPU"
   ]
  },
  {
   "cell_type": "code",
   "execution_count": null,
   "metadata": {},
   "outputs": [],
   "source": [
    "GPU = 'P100' # Options: K20X, K40, K80, P100, V100, Mi50"
   ]
  },
  {
   "cell_type": "code",
   "execution_count": null,
   "metadata": {},
   "outputs": [],
   "source": [
    "params = '../parameters_' + GPU + '.json'  \n",
    "assert os.path.exists(params)"
   ]
  },
  {
   "cell_type": "markdown",
   "metadata": {},
   "source": [
    "#### Read autotuned parameters"
   ]
  },
  {
   "cell_type": "code",
   "execution_count": null,
   "metadata": {},
   "outputs": [],
   "source": [
    "with open(params) as f:\n",
    "    all_parameters = pd.DataFrame([params for params in json.load(f)])\n",
    "autotuned_parameters = all_parameters[all_parameters['source'] == 'autotuned']\n",
    "print(\"Reading autotuned data from\", params)"
   ]
  },
  {
   "cell_type": "code",
   "execution_count": null,
   "metadata": {
    "scrolled": true
   },
   "outputs": [],
   "source": [
    "ordered_columns = ['m', 'n', 'k', 'perf', 'algorithm', 'threads', 'grouping', 'minblocks', 'tile_m', 'tile_n', 'v', 'w']\n",
    "autotuned_parameters = autotuned_parameters[ordered_columns]\n",
    "print('Autotuned parameters:')\n",
    "display(autotuned_parameters)"
   ]
  },
  {
   "cell_type": "markdown",
   "metadata": {},
   "source": [
    "## Data Description"
   ]
  },
  {
   "cell_type": "code",
   "execution_count": null,
   "metadata": {},
   "outputs": [],
   "source": [
    "print('Numer of columns:', len(autotuned_parameters.columns), '\\nNumber of rows:', len(autotuned_parameters.index.values))\n",
    "print('\\nColumn names:')\n",
    "for c in autotuned_parameters.columns.values: \n",
    "    print(c)"
   ]
  },
  {
   "cell_type": "code",
   "execution_count": null,
   "metadata": {},
   "outputs": [],
   "source": [
    "autotuned_parameters.describe()"
   ]
  },
  {
   "cell_type": "code",
   "execution_count": null,
   "metadata": {
    "scrolled": true
   },
   "outputs": [],
   "source": [
    "import pandas_profiling \n",
    "pandas_profiling.ProfileReport(autotuned_parameters)"
   ]
  },
  {
   "cell_type": "markdown",
   "metadata": {},
   "source": [
    "## Plot performances"
   ]
  },
  {
   "cell_type": "code",
   "execution_count": null,
   "metadata": {},
   "outputs": [],
   "source": [
    "%matplotlib inline \n",
    "import matplotlib.pyplot as plt"
   ]
  },
  {
   "cell_type": "code",
   "execution_count": null,
   "metadata": {},
   "outputs": [],
   "source": [
    "autotuned_parameters['mnk'] = autotuned_parameters['m'] * autotuned_parameters['n'] * autotuned_parameters['k']\n",
    "plt.semilogx(autotuned_parameters['mnk'], autotuned_parameters['perf'], '.', markersize=3)\n",
    "plt.xlabel('Training (m, n, k) triplets (in order of increasing m*n*k)')\n",
    "plt.ylabel('Performance [Gflops]')"
   ]
  },
  {
   "cell_type": "markdown",
   "metadata": {},
   "source": [
    "## Parameter frequencies"
   ]
  },
  {
   "cell_type": "code",
   "execution_count": null,
   "metadata": {},
   "outputs": [],
   "source": [
    "# ignore the 'threads' parameter since it has to be adapted to the size of matrix C\n",
    "parameter_set = ['algorithm', 'grouping', 'minblocks', 'tile_m', 'tile_n', 'v', 'w']"
   ]
  },
  {
   "cell_type": "markdown",
   "metadata": {},
   "source": [
    "### Most frequent parameter sets"
   ]
  },
  {
   "cell_type": "code",
   "execution_count": null,
   "metadata": {},
   "outputs": [],
   "source": [
    "def get_par_set(algorithm, grouping, minblocks, tile_m, tile_n, v, w):\n",
    "    par_set= algorithm + '_' + str(int(grouping)) + '_' + str(int(minblocks)) \n",
    "    if not np.isnan(tile_m):\n",
    "        par_set +=  '_' + str(int(tile_m)) + '_' + str(int(tile_n))\n",
    "        if not np.isnan(v):\n",
    "            par_set += '_' + str(int(v)) + '_' + str(int(w))\n",
    "    return par_set\n",
    "    \n",
    "vget = np.vectorize(get_par_set)\n",
    "autotuned_parameters['param_set'] = vget(*[a for a in autotuned_parameters[parameter_set].values.transpose()])"
   ]
  },
  {
   "cell_type": "code",
   "execution_count": null,
   "metadata": {
    "scrolled": true
   },
   "outputs": [],
   "source": [
    "param_set_freq = autotuned_parameters['param_set'].value_counts(dropna=True)\n",
    "autotuned_parameters['param_set_freq'] = autotuned_parameters['param_set'].apply(lambda item: param_set_freq[item])\n",
    "autotuned_parameters.sort_values(by='param_set_freq', ascending=False, inplace=True)\n",
    "autotuned_parameters.iloc[:50,:]"
   ]
  },
  {
   "cell_type": "markdown",
   "metadata": {},
   "source": [
    "### Most frequent parameters (independently of each other)"
   ]
  },
  {
   "cell_type": "code",
   "execution_count": null,
   "metadata": {
    "scrolled": true
   },
   "outputs": [],
   "source": [
    "most_frequent_values = dict()\n",
    "for c in autotuned_parameters.columns.values: \n",
    "    plt.figure\n",
    "    plt.hist(autotuned_parameters[c].dropna(), bins=50)\n",
    "    plt.title(c)\n",
    "    plt.show()\n",
    "    if c in parameter_set: \n",
    "        col = autotuned_parameters[c].dropna().values\n",
    "        values, counts = np.unique(col, return_counts=True)\n",
    "        ind_most_freq = np.argmax(counts)\n",
    "        most_freq_val = values[ind_most_freq]\n",
    "        most_frequent_values[c] = most_freq_val"
   ]
  }
 ],
 "metadata": {
  "kernelspec": {
   "display_name": "Python 3",
   "language": "python",
   "name": "python3"
  },
  "language_info": {
   "codemirror_mode": {
    "name": "ipython",
    "version": 3
   },
   "file_extension": ".py",
   "mimetype": "text/x-python",
   "name": "python",
   "nbconvert_exporter": "python",
   "pygments_lexer": "ipython3",
   "version": "3.6.5"
  }
 },
 "nbformat": 4,
 "nbformat_minor": 1
}
